{
 "cells": [
  {
   "cell_type": "code",
   "execution_count": 9,
   "metadata": {},
   "outputs": [
    {
     "name": "stdout",
     "output_type": "stream",
     "text": [
      "Hello world\n",
      "\n",
      "2\n",
      "12\n",
      "Multiplication:  24\n",
      "square of b: 144\n"
     ]
    }
   ],
   "source": [
    "print(\"Hello world\")\n",
    "print()\n",
    "a = int(input(\"Enter the value of a: \"))\n",
    "print(a)\n",
    "b = int(input(\"Enter the value of b\"))\n",
    "print(b)\n",
    "print(\"Multiplication: \", a * b)\n",
    "print(\"square of b:\", b ** 2)"
   ]
  }
 ],
 "metadata": {
  "kernelspec": {
   "display_name": "base",
   "language": "python",
   "name": "python3"
  },
  "language_info": {
   "codemirror_mode": {
    "name": "ipython",
    "version": 3
   },
   "file_extension": ".py",
   "mimetype": "text/x-python",
   "name": "python",
   "nbconvert_exporter": "python",
   "pygments_lexer": "ipython3",
   "version": "3.11.5"
  }
 },
 "nbformat": 4,
 "nbformat_minor": 2
}
