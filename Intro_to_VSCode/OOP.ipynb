{
 "cells": [
  {
   "cell_type": "markdown",
   "metadata": {},
   "source": [
    "## Polymorphism"
   ]
  },
  {
   "cell_type": "code",
   "execution_count": 13,
   "metadata": {},
   "outputs": [
    {
     "name": "stdout",
     "output_type": "stream",
     "text": [
      "Drive..\n",
      "Sail..\n",
      "Fly..\n"
     ]
    }
   ],
   "source": [
    "# Polymorphism (Many forms) - like a method name can be same in different calsses but serves different purpose\n",
    "\n",
    "class Car:\n",
    "    def __init__(self, brand, model) -> None:\n",
    "        self.brand = brand\n",
    "        self.model = model\n",
    "    \n",
    "    def move(self):\n",
    "        print(\"Drive..\")\n",
    "\n",
    "class Boat:\n",
    "    def __init__(self, brand, model) -> None:\n",
    "        self.brand = brand\n",
    "        self.model = model\n",
    "    \n",
    "    def move(self):\n",
    "        print(\"Sail..\")\n",
    "\n",
    "class Plane:\n",
    "    def __init__(self, brand, model) -> None:\n",
    "        self.brand = brand\n",
    "        self.model = model\n",
    "    \n",
    "    def move(self):\n",
    "        print(\"Fly..\")\n",
    "\n",
    "\n",
    "c1 = Car(\"Kia\", \"sportage\")\n",
    "b1 = Boat(\"Ibiza\",\"Touring 20\")\n",
    "p1 = Plane(\"Boeing\", \"747\")\n",
    "\n",
    "c1.move()\n",
    "b1.move()\n",
    "p1.move()"
   ]
  },
  {
   "cell_type": "markdown",
   "metadata": {},
   "source": [
    "## Inheritance"
   ]
  },
  {
   "cell_type": "code",
   "execution_count": 21,
   "metadata": {},
   "outputs": [
    {
     "name": "stdout",
     "output_type": "stream",
     "text": [
      "Welcome Santhan Reddy to the class of 2019\n"
     ]
    }
   ],
   "source": [
    "class Person:\n",
    "    def __init__(self, fname, lname) -> None:\n",
    "        self.firstname = fname\n",
    "        self.lastname = lname\n",
    "    \n",
    "    def printname(self):\n",
    "        print(\"Hello my name is\", self.firstname , self.lastname )\n",
    "\n",
    "# x = Person(\"Santhan\", \"Reddy\")\n",
    "# x.printname()\n",
    "\n",
    "class Student(Person):\n",
    "    def __init__(self, fname, lname, graduationyear: str ) -> None:\n",
    "        super().__init__(fname, lname)\n",
    "        self.gradyear = graduationyear\n",
    "    \n",
    "    def welcome(self):\n",
    "        print(\"Welcome\", self.firstname, self.lastname, \"to the class of\",  self.gradyear)\n",
    "    \n",
    "    \n",
    "x = Student(\"Santhan\", \"Reddy\", 2019)\n",
    "x.welcome()\n",
    "\n"
   ]
  }
 ],
 "metadata": {
  "kernelspec": {
   "display_name": "base",
   "language": "python",
   "name": "python3"
  },
  "language_info": {
   "codemirror_mode": {
    "name": "ipython",
    "version": 3
   },
   "file_extension": ".py",
   "mimetype": "text/x-python",
   "name": "python",
   "nbconvert_exporter": "python",
   "pygments_lexer": "ipython3",
   "version": "3.11.5"
  }
 },
 "nbformat": 4,
 "nbformat_minor": 2
}
